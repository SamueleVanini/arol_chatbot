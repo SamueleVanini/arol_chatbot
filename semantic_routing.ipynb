{
 "cells": [
  {
   "cell_type": "code",
   "id": "initial_id",
   "metadata": {
    "collapsed": true,
    "ExecuteTime": {
     "end_time": "2024-11-19T14:12:01.199007Z",
     "start_time": "2024-11-19T14:12:01.178602Z"
    }
   },
   "source": [
    "from dotenv import load_dotenv\n",
    "load_dotenv()"
   ],
   "outputs": [
    {
     "data": {
      "text/plain": [
       "True"
      ]
     },
     "execution_count": 69,
     "metadata": {},
     "output_type": "execute_result"
    }
   ],
   "execution_count": 69
  },
  {
   "metadata": {
    "ExecuteTime": {
     "end_time": "2024-11-19T14:12:01.686902Z",
     "start_time": "2024-11-19T14:12:01.226182Z"
    }
   },
   "cell_type": "code",
   "source": [
    "from service.llm_service import LlmFactory\n",
    "\n",
    "llm = LlmFactory.get_model(\"llama-3.2-90b-text-preview\")"
   ],
   "id": "d3bb249b1e2c0306",
   "outputs": [],
   "execution_count": 70
  },
  {
   "metadata": {
    "ExecuteTime": {
     "end_time": "2024-11-19T14:12:01.708296Z",
     "start_time": "2024-11-19T14:12:01.696778Z"
    }
   },
   "cell_type": "code",
   "source": [
    "from service.history_service import ChatHistoryFactory, MemoryType\n",
    "\n",
    "machine_template = (\n",
    "    \"\"\"You are an expert at answering user questions about specefic informatioin of capping machines. you will answer questions that asks about :\n",
    "   - Specific machine details such as:\n",
    "     * Production speeds and capacity (e.g., bottles per minute)\n",
    "     * Supported cap types (e.g., pre-threaded plastic caps)\n",
    "     * Machine versions (standard, washable, inox external surfaces)\n",
    "     * Technical features (closure heads, caps application)\n",
    "     * Optional components (caps chute, sorter, caps elevator)\n",
    "     * Market applications for specific machines\n",
    "     * Format change capabilities\n",
    "     * Machine configurations and versions\n",
    "     * Specific machine models (like EURO PK)\n",
    "     * Operational features (washing systems, lubrication, etc.)\n",
    "     * Component specifications (caps chute, pick & place, etc.)\n",
    "     if you don't know something just admit that you don't know it.\n",
    "     \n",
    "     Examples:\n",
    "    - \"What's the maximum speed of the EURO PK capper?\"\n",
    "    - \"What types of closure heads are available for the EURO PK?\"\n",
    "    - \"Does the EURO PK have a washable version?\" → machines_catalog\n",
    "     \"\"\"\n",
    ")\n",
    "arol_template = (\n",
    "    \"\"\"You are an expert at answering user questions about AROL company-wide information.\n",
    "   - you will answer Question that Asks about Arol at a company-wide level:\n",
    "     * Overall product portfolio and machine categories\n",
    "     * Arol machine productions\n",
    "     * Company history and background\n",
    "     * Total number of machine types or models\n",
    "     * Geographic presence and markets served\n",
    "     * Company-wide capabilities and expertise\n",
    "     * General industry sectors served across all products\n",
    "     * Company certifications and standards\n",
    "     * Overall manufacturing capabilities\n",
    "     * Business partnerships and relationships\n",
    "     * Company milestones and achievements\n",
    "     if you don't know something just admit that you don't know it.\n",
    "     \n",
    "     Examples:\n",
    "    - \"How many different capping machine models does Arol produce?\"\n",
    "    - \"How many machines do you produce?\"\n",
    "    - \"What are Arol's main market segments across all products?\"\n",
    "    - \"What's Arol's expertise in the beverage industry?\"\n",
    "     \"\"\"\n",
    ")\n",
    "history_session = ChatHistoryFactory.get_chat_history(memory_type=MemoryType.REDIS)\n",
    "\n",
    "\n",
    "def create_chat_hisotry(query):\n",
    "    messages = history_session(\"amirali049f4d9986f24d49b86003205f5749e6\").messages\n",
    "    formatted_history = []\n",
    "    #last_chats = messages[-2:]\n",
    "    for message in messages:\n",
    "        if message.__class__.__name__ == 'HumanMessage':\n",
    "            formatted_history.append(f\"Human asked: \\\"{message.content}\\\"\")\n",
    "        elif message.__class__.__name__ == 'AIMessage':\n",
    "            formatted_history.append(f\"AI Response: {message.content}\")\n",
    "\n",
    "    final_text = \"\\n\\n\".join(formatted_history)\n",
    "    include_last_question = final_text + f\"\\n\\n Human asked: {query[\"input\"]}\\\"\"\n",
    "    return include_last_question"
   ],
   "id": "1f83894c87b2a95a",
   "outputs": [],
   "execution_count": 71
  },
  {
   "metadata": {
    "ExecuteTime": {
     "end_time": "2024-11-19T14:12:06.129614Z",
     "start_time": "2024-11-19T14:12:01.720086Z"
    }
   },
   "cell_type": "code",
   "source": [
    "from langchain_community.embeddings import HuggingFaceEmbeddings\n",
    "\n",
    "model_name = \"thenlper/gte-large\"  # model_name: The name of the model to use\n",
    "model_kwargs = {'device': 'cpu'}  # model_kwargs: Keyword arguments to pass to the model\n",
    "encode_kwargs = {'normalize_embeddings': True}  # encode_kwargs: Keyword arguments to pass to the encode method\n",
    "embeddings = HuggingFaceEmbeddings(  # HuggingFaceEmbeddings: A class for using Hugging Face models\n",
    "        model_name=model_name,\n",
    "        model_kwargs=model_kwargs,\n",
    "        encode_kwargs=encode_kwargs\n",
    ")"
   ],
   "id": "83bfcac53aaa1008",
   "outputs": [],
   "execution_count": 72
  },
  {
   "metadata": {
    "ExecuteTime": {
     "end_time": "2024-11-19T14:12:07.280909Z",
     "start_time": "2024-11-19T14:12:06.137494Z"
    }
   },
   "cell_type": "code",
   "source": [
    "from langchain_community.utils.math import cosine_similarity\n",
    "\n",
    "\n",
    "prompt_templates = [arol_template, machine_template]\n",
    "prompt_embeddings = embeddings.embed_documents(prompt_templates)\n",
    "\n",
    "\n",
    "def prompt_router(input):\n",
    "    query_embedding = embeddings.embed_query(input[\"query\"])\n",
    "    similarity = cosine_similarity([query_embedding], prompt_embeddings)[0]\n",
    "    most_similar = prompt_templates[similarity.argmax()]\n",
    "    return {\"datasource\": \"arol_information\" if most_similar == arol_template else \"machine_information\"}"
   ],
   "id": "63e84ad4b2f9998c",
   "outputs": [],
   "execution_count": 73
  },
  {
   "metadata": {
    "ExecuteTime": {
     "end_time": "2024-11-19T14:12:09.181080Z",
     "start_time": "2024-11-19T14:12:07.288453Z"
    }
   },
   "cell_type": "code",
   "source": [
    "input = create_chat_hisotry({\"input\": \"give me information about euro vp\"})\n",
    "prompt_router({\"query\": input})"
   ],
   "id": "5836cb800a9917e2",
   "outputs": [
    {
     "data": {
      "text/plain": [
       "{'datasource': 'machine_information'}"
      ]
     },
     "execution_count": 74,
     "metadata": {},
     "output_type": "execute_result"
    }
   ],
   "execution_count": 74
  },
  {
   "metadata": {
    "ExecuteTime": {
     "end_time": "2024-11-19T14:12:09.280320Z",
     "start_time": "2024-11-19T14:12:09.269257Z"
    }
   },
   "cell_type": "code",
   "source": "print(input)",
   "id": "d8fd35d883641631",
   "outputs": [
    {
     "name": "stdout",
     "output_type": "stream",
     "text": [
      "Human asked: \"how many type of machines arol have?\"\n",
      "\n",
      "AI Response: Based on the provided information, AROL appears to have the following types of machines:\n",
      "\n",
      "1. Cappers:\n",
      "\t* Euro VA-CB (capper for aluminum caps on can bottles)\n",
      "\t* Euro VPA (capper for ROPP aluminum caps with plastic insert)\n",
      "\t* Euro VP (capper for pre-threaded plastic, irregular geometry, and large caps)\n",
      "\t* Equatorque (capper with brushless motors on vertical and rotary spindle control)\n",
      "\t* Euro VA (capper for ROPP aluminum caps)\n",
      "\t* Next VP (pre-threaded plastic caps lube-free capper)\n",
      "\t* Eagle VP (single-head capper for pre-threaded plastic, irregular geometry, and large caps)\n",
      "\t* Eagle VA (single-head capper for ROPP aluminum caps)\n",
      "2. Corkers:\n",
      "\t* Saturno R (corker for natural, agglomerated, and synthetic corks)\n",
      "\t* Saturno F (corker for natural, agglomerated, and synthetic corks)\n",
      "\t* Gemini R (single-head corker for natural, agglomerated, and synthetic corks)\n",
      "\t* Gemini F (single-head corker for mushroom corks)\n",
      "3. Pluggers:\n",
      "\t* Euro PP-G (plunger for press-on caps)\n",
      "\n",
      "Please note that this information may not be exhaustive, as there may be other types of machines or variations not listed here. If you need more information or clarification, I recommend contacting a human sales agent or the official AROL website.\n",
      "\n",
      "Human asked: \"what is the count of the machines in total?\"\n",
      "\n",
      "AI Response: Based on the provided information, I counted a total of 15 different machine types:\n",
      "\n",
      "1. Euro VA-CB (1)\n",
      "2. Euro VPA (1)\n",
      "3. Euro VP (1)\n",
      "4. Equatorque (1)\n",
      "5. Euro VA (1)\n",
      "6. Next VP (1)\n",
      "7. Eagle VP (1)\n",
      "8. Eagle VA (1)\n",
      "9. Saturno R (1)\n",
      "10. Saturno F (1)\n",
      "11. Gemini R (1)\n",
      "12. Gemini F (1)\n",
      "13. Euro PP-G (1)\n",
      "14. Euro PK (1)\n",
      "15. Over (1)\n",
      "\n",
      "Please note that this count only includes the unique machine types mentioned in the provided information, and may not reflect the total number of machines or variations available from AROL.\n",
      "\n",
      "Human asked: \"give me the total number of machines\"\n",
      "\n",
      "AI Response: I apologize for the earlier mistake. After re-counting, I found that there are actually 23 machine names mentioned in the provided information. Here is the complete list:\n",
      "\n",
      "1. Euro PP-C\n",
      "2. Euro PP-G\n",
      "3. Gemini F\n",
      "4. Gemini R\n",
      "5. Gemini RF\n",
      "6. Euro VP\n",
      "7. Euro VA-CB\n",
      "8. Euro VA\n",
      "9. Euro VPA\n",
      "10. Equatorque\n",
      "11. Eagle PP\n",
      "12. Eagle VP\n",
      "13. Eagle VA\n",
      "14. Next VP\n",
      "15. Saturno F\n",
      "16. Saturno R\n",
      "17. Saturno RF\n",
      "18. Kamma PKV\n",
      "19. Euro PK\n",
      "20. Eagle C\n",
      "21. La Champenoise\n",
      "22. Next VP\n",
      "23. Esse\n",
      "\n",
      "Please note that some of these machines may be variations or different models, but I've counted each name as a unique machine type.\n",
      "\n",
      " Human asked: give me information about euro vp\"\n"
     ]
    }
   ],
   "execution_count": 75
  }
 ],
 "metadata": {
  "kernelspec": {
   "display_name": "Python 3",
   "language": "python",
   "name": "python3"
  },
  "language_info": {
   "codemirror_mode": {
    "name": "ipython",
    "version": 2
   },
   "file_extension": ".py",
   "mimetype": "text/x-python",
   "name": "python",
   "nbconvert_exporter": "python",
   "pygments_lexer": "ipython2",
   "version": "2.7.6"
  }
 },
 "nbformat": 4,
 "nbformat_minor": 5
}
